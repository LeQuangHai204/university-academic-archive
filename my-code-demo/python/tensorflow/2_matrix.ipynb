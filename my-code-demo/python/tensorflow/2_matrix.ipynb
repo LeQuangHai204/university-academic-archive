{
 "cells": [
  {
   "cell_type": "code",
   "execution_count": 2,
   "metadata": {},
   "outputs": [],
   "source": [
    "import tensorflow as tf\n",
    "\n",
    "operand1 = tf.constant([[1.0, 2.0, 3.0, 4.0], [5.2, 4.1, 8.5, 10]])\n",
    "operand2 = tf.constant([[7.0, 8.0, 9.0, 10.0], [1.2, 3.1, 5.5, 7]])"
   ]
  },
  {
   "cell_type": "code",
   "execution_count": 11,
   "metadata": {},
   "outputs": [
    {
     "name": "stdout",
     "output_type": "stream",
     "text": [
      "tf.Tensor(\n",
      "[[ 90.   51.9]\n",
      " [245.7 135.7]], shape=(2, 2), dtype=float32)\n",
      "tf.Tensor(\n",
      "[[ 90.   51.9]\n",
      " [245.7 135.7]], shape=(2, 2), dtype=float32)\n",
      "tf.Tensor(\n",
      "[[ 13.24      24.119999  37.6       46.399998]\n",
      " [ 18.92      28.71      40.55      48.699997]\n",
      " [ 31.2       50.35      73.75      89.5     ]\n",
      " [ 40.        63.        91.       110.      ]], shape=(4, 4), dtype=float32)\n"
     ]
    }
   ],
   "source": [
    "print(tf.linalg.matmul(operand1, operand2, transpose_a=False, transpose_b=True, a_is_sparse=False, b_is_sparse=False, adjoint_a=False, adjoint_b=False, name=None))\n",
    "print(operand1 @ tf.transpose(operand2, perm=[1, 0])) \n",
    "print(tf.linalg.matmul(operand1, operand2, transpose_a=True, transpose_b=False, a_is_sparse=False, b_is_sparse=False, adjoint_a=False, adjoint_b=False, name=None))\n"
   ]
  },
  {
   "cell_type": "code",
   "execution_count": 7,
   "metadata": {},
   "outputs": [
    {
     "data": {
      "text/plain": [
       "<tf.Variable 'Variable:0' shape=(2, 4) dtype=float32, numpy=\n",
       "array([[ 1. ,  2. ,  3. ,  4. ],\n",
       "       [ 5.2,  4.1,  8.5, 10. ]], dtype=float32)>"
      ]
     },
     "execution_count": 7,
     "metadata": {},
     "output_type": "execute_result"
    }
   ],
   "source": [
    "var1 = tf.Variable([[1.0, 2.0, 3.0, 4.0], [5.2, 4.1, 8.5, 10]])\n",
    "print(var1)\n",
    "var1.assign_sub([[7.0, 8.0, 9.0, 10.0], [1.2, 3.1, 5.5, 7]])\n",
    "print(var1)\n",
    "var1.assign_add([[7.0, 8.0, 9.0, 10.0], [1.2, 3.1, 5.5, 7]])\n",
    "print(var1)"
   ]
  }
 ],
 "metadata": {
  "kernelspec": {
   "display_name": "Python 3",
   "language": "python",
   "name": "python3"
  },
  "language_info": {
   "codemirror_mode": {
    "name": "ipython",
    "version": 3
   },
   "file_extension": ".py",
   "mimetype": "text/x-python",
   "name": "python",
   "nbconvert_exporter": "python",
   "pygments_lexer": "ipython3",
   "version": "3.12.2"
  }
 },
 "nbformat": 4,
 "nbformat_minor": 2
}
