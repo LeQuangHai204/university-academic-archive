{
 "cells": [
  {
   "cell_type": "code",
   "execution_count": 2,
   "id": "initial_id",
   "metadata": {
    "ExecuteTime": {
     "end_time": "2024-04-20T15:47:05.466627Z",
     "start_time": "2024-04-20T15:46:55.883626Z"
    },
    "collapsed": true
   },
   "outputs": [],
   "source": [
    "import tensorflow as tf\n",
    "import numpy as np"
   ]
  },
  {
   "cell_type": "code",
   "execution_count": 5,
   "id": "56aab4a15a899a56",
   "metadata": {
    "ExecuteTime": {
     "end_time": "2024-04-20T15:47:05.628382Z",
     "start_time": "2024-04-20T15:47:05.466627Z"
    }
   },
   "outputs": [
    {
     "data": {
      "text/plain": [
       "<tf.Tensor: shape=(), dtype=int32, numpy=1>"
      ]
     },
     "execution_count": 5,
     "metadata": {},
     "output_type": "execute_result"
    }
   ],
   "source": [
    "tensor_0d = tf.constant(1)\n",
    "tensor_0d"
   ]
  },
  {
   "cell_type": "code",
   "execution_count": 6,
   "id": "7cf3d7ab75cce4f1",
   "metadata": {
    "ExecuteTime": {
     "end_time": "2024-04-20T15:47:05.640576Z",
     "start_time": "2024-04-20T15:47:05.628382Z"
    }
   },
   "outputs": [
    {
     "data": {
      "text/plain": [
       "<tf.Tensor: shape=(3,), dtype=int32, numpy=array([1, 2, 3])>"
      ]
     },
     "execution_count": 6,
     "metadata": {},
     "output_type": "execute_result"
    }
   ],
   "source": [
    "tensor_1d = tf.constant([1, 2, 3])\n",
    "tensor_1d"
   ]
  },
  {
   "cell_type": "code",
   "execution_count": 7,
   "id": "facf7ce5e66ed433",
   "metadata": {
    "ExecuteTime": {
     "end_time": "2024-04-20T15:47:05.650475Z",
     "start_time": "2024-04-20T15:47:05.640576Z"
    }
   },
   "outputs": [
    {
     "data": {
      "text/plain": [
       "<tf.Tensor: shape=(2, 2), dtype=int32, numpy=\n",
       "array([[1, 2],\n",
       "       [3, 4]])>"
      ]
     },
     "execution_count": 7,
     "metadata": {},
     "output_type": "execute_result"
    }
   ],
   "source": [
    "tensor_2d = tf.constant([[1, 2], [3, 4]])\n",
    "tensor_2d"
   ]
  },
  {
   "cell_type": "code",
   "execution_count": 8,
   "id": "97fde30b6add1882",
   "metadata": {
    "ExecuteTime": {
     "end_time": "2024-04-20T15:47:05.660559Z",
     "start_time": "2024-04-20T15:47:05.650475Z"
    }
   },
   "outputs": [
    {
     "data": {
      "text/plain": [
       "<tf.Tensor: shape=(2, 2, 2), dtype=int32, numpy=\n",
       "array([[[1, 2],\n",
       "        [3, 4]],\n",
       "\n",
       "       [[5, 6],\n",
       "        [7, 8]]])>"
      ]
     },
     "execution_count": 8,
     "metadata": {},
     "output_type": "execute_result"
    }
   ],
   "source": [
    "tensor_3d = tf.constant([[[1, 2], [3, 4]], [[5, 6], [7, 8]]])\n",
    "tensor_3d"
   ]
  },
  {
   "cell_type": "code",
   "execution_count": 9,
   "id": "82cda00fb429f1df",
   "metadata": {
    "ExecuteTime": {
     "end_time": "2024-04-20T15:48:01.576027Z",
     "start_time": "2024-04-20T15:48:01.547657Z"
    }
   },
   "outputs": [
    {
     "data": {
      "text/plain": [
       "<tf.Tensor: shape=(2, 2, 2, 2), dtype=int32, numpy=\n",
       "array([[[[ 1,  2],\n",
       "         [ 3,  4]],\n",
       "\n",
       "        [[ 5,  6],\n",
       "         [ 7,  8]]],\n",
       "\n",
       "\n",
       "       [[[ 9, 10],\n",
       "         [11, 12]],\n",
       "\n",
       "        [[13, 14],\n",
       "         [15, 16]]]])>"
      ]
     },
     "execution_count": 9,
     "metadata": {},
     "output_type": "execute_result"
    }
   ],
   "source": [
    "tensor_4d = tf.constant([[[[1, 2], [3, 4]], [[5, 6], [7, 8]]], [[[9, 10], [11, 12]], [[13, 14], [15, 16]]]])\n",
    "tensor_4d"
   ]
  },
  {
   "cell_type": "code",
   "execution_count": 12,
   "id": "93aed76a",
   "metadata": {},
   "outputs": [
    {
     "data": {
      "text/plain": [
       "<tf.Tensor: shape=(2, 2, 2, 2, 2), dtype=int32, numpy=\n",
       "array([[[[[ 1,  2],\n",
       "          [ 3,  4]],\n",
       "\n",
       "         [[ 5,  6],\n",
       "          [ 7,  8]]],\n",
       "\n",
       "\n",
       "        [[[ 9, 10],\n",
       "          [11, 12]],\n",
       "\n",
       "         [[13, 14],\n",
       "          [15, 16]]]],\n",
       "\n",
       "\n",
       "\n",
       "       [[[[17, 18],\n",
       "          [19, 20]],\n",
       "\n",
       "         [[21, 22],\n",
       "          [23, 24]]],\n",
       "\n",
       "\n",
       "        [[[25, 26],\n",
       "          [27, 28]],\n",
       "\n",
       "         [[29, 30],\n",
       "          [31, 32]]]]])>"
      ]
     },
     "execution_count": 12,
     "metadata": {},
     "output_type": "execute_result"
    }
   ],
   "source": [
    "tensor_5d = tf.constant([\n",
    "    [[[[1, 2], [3, 4]], [[5, 6], [7, 8]]], [[[9, 10], [11, 12]], [[13, 14], [15, 16]]]], \n",
    "    [[[[17, 18], [19, 20]], [[21, 22], [23, 24]]], [[[25, 26], [27, 28]], [[29, 30], [31, 32]]]]])\n",
    "tensor_5d"
   ]
  },
  {
   "cell_type": "code",
   "execution_count": 8,
   "id": "94584700",
   "metadata": {},
   "outputs": [
    {
     "name": "stdout",
     "output_type": "stream",
     "text": [
      "tf.Tensor([ 1.2  -2.23  0.    4.  ], shape=(4,), dtype=float32)\n",
      "tf.Tensor([ 1 -2  0  4], shape=(4,), dtype=int32)\n",
      "tf.Tensor([ True  True False  True], shape=(4,), dtype=bool)\n"
     ]
    }
   ],
   "source": [
    "# casting tensor\n",
    "tensor_float = tf.constant([1.2, -2.23, 0, 4], dtype=tf.float32)\n",
    "tensor_int = tf.cast(tensor_float, tf.int32)\n",
    "tendor_bool = tf.cast(tensor_int, tf.bool)\n",
    "print(tensor_float)\n",
    "print(tensor_int)\n",
    "print(tendor_bool)"
   ]
  },
  {
   "cell_type": "code",
   "execution_count": 9,
   "id": "19d41ea8",
   "metadata": {},
   "outputs": [
    {
     "name": "stdout",
     "output_type": "stream",
     "text": [
      "[1 2 3]\n",
      "tf.Tensor([1 2 3], shape=(3,), dtype=int32)\n"
     ]
    }
   ],
   "source": [
    "# numpy array to tensor\n",
    "np_array = np.array([1, 2, 3])\n",
    "tensor = tf.constant(np_array)\n",
    "print(np_array)\n",
    "print(tensor)\n"
   ]
  },
  {
   "cell_type": "code",
   "execution_count": 10,
   "id": "f92fa74e",
   "metadata": {},
   "outputs": [
    {
     "name": "stdout",
     "output_type": "stream",
     "text": [
      "tf.Tensor(\n",
      "[[[1 0 0]\n",
      "  [0 1 0]\n",
      "  [0 0 1]]\n",
      "\n",
      " [[1 0 0]\n",
      "  [0 1 0]\n",
      "  [0 0 1]]], shape=(2, 3, 3), dtype=int16)\n"
     ]
    }
   ],
   "source": [
    "# (batch x row x column) identity matrix\n",
    "tensor_eye = tf.eye(\n",
    "    num_rows=3,\n",
    "    num_columns=None,\n",
    "    batch_shape=[2],\n",
    "    dtype=tf.int16,\n",
    "    name=None); \n",
    "print(tensor_eye)"
   ]
  },
  {
   "cell_type": "code",
   "execution_count": 11,
   "id": "42bd6b47",
   "metadata": {},
   "outputs": [
    {
     "name": "stdout",
     "output_type": "stream",
     "text": [
      "tf.Tensor(\n",
      "[[8 8 8]\n",
      " [8 8 8]], shape=(2, 3), dtype=int32)\n"
     ]
    }
   ],
   "source": [
    "# create tensor of shape dim with all value\n",
    "tensor_fill = tf.fill(\n",
    "    dims=[2, 3],\n",
    "    value=8,\n",
    "    name=None\n",
    ")\n",
    "print(tensor_fill)"
   ]
  },
  {
   "cell_type": "code",
   "execution_count": 12,
   "id": "32d09558",
   "metadata": {},
   "outputs": [
    {
     "name": "stdout",
     "output_type": "stream",
     "text": [
      "tf.Tensor(\n",
      "[[1 1]\n",
      " [1 1]\n",
      " [1 1]], shape=(3, 2), dtype=int32)\n",
      "tf.Tensor(\n",
      "[[1 1 1]\n",
      " [1 1 1]], shape=(2, 3), dtype=int32)\n"
     ]
    }
   ],
   "source": [
    "# create a tensor of 1s\n",
    "tensor_ones = tf.ones(\n",
    "    shape=[3, 2],\n",
    "    dtype=tf.int32,\n",
    "    name=None\n",
    ")\n",
    "\n",
    "# create a tensor of 1s with shape of input tensor\n",
    "tensor_ones_like = tf.ones_like(\n",
    "    input=tensor_fill, # tensor_fill is 2x3 matrix\n",
    "    dtype=None,\n",
    "    name=None\n",
    ")\n",
    "\n",
    "print(tensor_ones) # 3x2 matrix of 1s\n",
    "print(tensor_ones_like) # 2x3 matrix of 1s"
   ]
  },
  {
   "cell_type": "code",
   "execution_count": 13,
   "id": "706b2188",
   "metadata": {},
   "outputs": [
    {
     "name": "stdout",
     "output_type": "stream",
     "text": [
      "tf.Tensor([2 2 2], shape=(3,), dtype=int32)\n",
      "tf.Tensor(8, shape=(), dtype=int32)\n",
      "tf.Tensor(3, shape=(), dtype=int32)\n"
     ]
    }
   ],
   "source": [
    "# exploiting tensor attributes\n",
    "print(tf.shape(input=tensor_3d, out_type=tf.int32, name=None)) # a tensor containing shape of tensor_3d\n",
    "print(tf.size(input=tensor_3d, out_type=tf.int32, name=None)) # number of elements in tensor_3d\n",
    "print(tf.rank(input=tensor_3d, name=None)) # rank of tensor_3d"
   ]
  },
  {
   "cell_type": "code",
   "execution_count": 14,
   "id": "7de609f3",
   "metadata": {},
   "outputs": [
    {
     "name": "stdout",
     "output_type": "stream",
     "text": [
      "tf.Tensor(\n",
      "[[[-1.1012203   1.5457517   0.383644   -0.87965786]\n",
      "  [-1.2246722  -0.9811211   0.08780783 -0.20326038]\n",
      "  [-0.5581562  -0.72054404 -0.6259924  -0.71502596]\n",
      "  [-0.34835446 -0.33646983  0.18257578  1.1085953 ]\n",
      "  [ 1.2796587  -0.02147584 -0.31968883  0.37332553]\n",
      "  [ 0.25279108  0.6437664   2.146308   -0.82514983]]\n",
      "\n",
      " [[-0.9041368   1.3948786   1.2248751   0.0586496 ]\n",
      "  [-0.49213138 -0.81997806 -0.18526012 -0.39277685]\n",
      "  [-0.6585226  -0.9833388   0.38883775 -1.0372448 ]\n",
      "  [-1.5600569  -0.15791255 -0.3566943  -0.20044029]\n",
      "  [ 1.613107    0.6796728   0.08133233  1.3380764 ]\n",
      "  [ 1.1848053  -0.35381562 -0.10400175 -0.75114644]]\n",
      "\n",
      " [[-0.37274626 -0.87327313  0.16906022  1.0454443 ]\n",
      "  [ 0.92061925 -0.36889288  0.10171467 -1.1921712 ]\n",
      "  [-1.4274356   1.9076501  -0.7215866   1.2887349 ]\n",
      "  [-0.4003417   0.83785444  0.5840126   1.177344  ]\n",
      "  [-0.09392343 -0.72662795  1.8566561  -0.44455123]\n",
      "  [ 0.87348217 -0.05244347  0.583878   -2.0958302 ]]\n",
      "\n",
      " [[-0.6064927  -0.25165784 -0.8024012  -0.1674554 ]\n",
      "  [-1.6197468  -0.8253415   0.55918175 -0.15207222]\n",
      "  [-2.1396523  -0.42991126 -0.9648307   1.2299596 ]\n",
      "  [ 0.73638487  0.21161108 -0.3921929   0.5743566 ]\n",
      "  [-1.6936147  -0.414517    0.8866086   1.3280079 ]\n",
      "  [ 1.6981432   1.0888578  -1.5965161   1.0782919 ]]\n",
      "\n",
      " [[-0.2077277  -1.0625398   1.6242949   0.9868854 ]\n",
      "  [ 1.0166248  -0.7334497  -0.4377686   0.80627435]\n",
      "  [ 0.7412633   1.978025    0.6445094   1.4609729 ]\n",
      "  [ 0.5361634  -1.9806701   0.33255357 -1.489569  ]\n",
      "  [-0.76705974 -0.5134612  -0.7637212   1.0022424 ]\n",
      "  [ 1.4628669   0.2786569   1.2542111  -1.1124088 ]]], shape=(5, 6, 4), dtype=float32)\n",
      "tf.Tensor(\n",
      "[[ 0.02021408 -0.1129365  -0.1829338 ]\n",
      " [ 0.98498464  0.37732792 -0.30830073]], shape=(2, 3), dtype=float32)\n"
     ]
    }
   ],
   "source": [
    "# the random function depends on a seed value\n",
    "# if seed value is not set, the random values will be different each time\n",
    "# 2 times the same seed value will produce the same random values\n",
    "tf.random.set_seed(1)\n",
    "\n",
    "# output random values from a distribution\n",
    "tensor_random_normal = tf.random.normal(\n",
    "    shape=[5, 6, 4],\n",
    "    mean=0.0,\n",
    "    stddev=1.0,\n",
    "    dtype=tf.float32,\n",
    "    seed=None,\n",
    "    name=None\n",
    ")\n",
    "tensor_random_uniform = tf.random.uniform(\n",
    "    shape=[2, 3],\n",
    "    minval=-1,\n",
    "    maxval=1,\n",
    "    dtype=tf.float32,\n",
    "    seed=None,\n",
    "    name=None\n",
    ")\n",
    "print(tensor_random_normal)\n",
    "print(tensor_random_uniform)"
   ]
  },
  {
   "cell_type": "code",
   "execution_count": 19,
   "id": "242ca5ce",
   "metadata": {},
   "outputs": [
    {
     "name": "stdout",
     "output_type": "stream",
     "text": [
      "tf.Tensor(\n",
      "[[[-1.5600569  -0.15791255]\n",
      "  [ 1.613107    0.6796728 ]\n",
      "  [ 1.1848053  -0.35381562]]\n",
      "\n",
      " [[-0.4003417   0.83785444]\n",
      "  [-0.09392343 -0.72662795]\n",
      "  [ 0.87348217 -0.05244347]]\n",
      "\n",
      " [[ 0.73638487  0.21161108]\n",
      "  [-1.6936147  -0.414517  ]\n",
      "  [ 1.6981432   1.0888578 ]]], shape=(3, 3, 2), dtype=float32)\n"
     ]
    }
   ],
   "source": [
    "# tensor slicing\n",
    "print(tensor_random_normal[1:4,3:,:2]) # slicing tensor_random_normal from 1 to 4 in the first dimension, 3 to end in the second dimension, and 0 to 2 in the third dimension"
   ]
  },
  {
   "cell_type": "markdown",
   "id": "8d8b9e5e",
   "metadata": {},
   "source": [
    "### Arithmetic operation"
   ]
  },
  {
   "cell_type": "code",
   "execution_count": 22,
   "id": "3699ce39",
   "metadata": {},
   "outputs": [
    {
     "name": "stdout",
     "output_type": "stream",
     "text": [
      "tf.Tensor(\n",
      "[[0.02021408 0.1129365  0.1829338 ]\n",
      " [0.98498464 0.37732792 0.30830073]], shape=(2, 3), dtype=float32)\n",
      "tf.Tensor([ 7.81024968 10.63014581], shape=(2,), dtype=float64)\n",
      "tf.Tensor([5 7 9], shape=(3,), dtype=int32)\n"
     ]
    }
   ],
   "source": [
    "# absolute value\n",
    "print(tf.abs(tensor_random_uniform)) # = max(value, -value) for real number\n",
    "print(tf.abs(tf.constant([5+6j, 7+8j]))) # = sqrt(real^2 + imag^2) for complex number\n"
   ]
  },
  {
   "cell_type": "code",
   "execution_count": 30,
   "id": "31652eea",
   "metadata": {},
   "outputs": [
    {
     "name": "stdout",
     "output_type": "stream",
     "text": [
      "tf.Tensor(\n",
      "[[ 5  7  9]\n",
      " [13  5 21]], shape=(2, 3), dtype=int32)\n",
      "tf.Tensor(\n",
      "[[ 5  7  9]\n",
      " [13  5 21]], shape=(2, 3), dtype=int32)\n",
      "tf.Tensor(\n",
      "[[-3 -3 -3]\n",
      " [-5  5 -9]], shape=(2, 3), dtype=int32)\n",
      "tf.Tensor(\n",
      "[[-3 -3 -3]\n",
      " [-5  5 -9]], shape=(2, 3), dtype=int32)\n",
      "tf.Tensor(\n",
      "[[ 4 10 18]\n",
      " [36  0 90]], shape=(2, 3), dtype=int32)\n",
      "tf.Tensor(\n",
      "[[ 4 10 18]\n",
      " [36  0 90]], shape=(2, 3), dtype=int32)\n",
      "tf.Tensor(\n",
      "[[0.25       0.4        0.5       ]\n",
      " [0.44444444        inf 0.4       ]], shape=(2, 3), dtype=float64)\n",
      "tf.Tensor(\n",
      "[[0.25       0.4        0.5       ]\n",
      " [0.44444444        inf 0.4       ]], shape=(2, 3), dtype=float64)\n",
      "tf.Tensor(\n",
      "[[0.25       0.4        0.5       ]\n",
      " [0.44444444 0.         0.4       ]], shape=(2, 3), dtype=float64)\n"
     ]
    }
   ],
   "source": [
    "x1 = tf.constant([[1, 2, 3], [4, 5, 6]])\n",
    "x2 = tf.constant([[4, 5, 6], [9, 0, 15]])\n",
    "print(x1 + x2)\n",
    "print(tf.add(x1, x2))\n",
    "print(x1 - x2)\n",
    "print(tf.subtract(x1, x2))\n",
    "\n",
    "# this is not the same as matrix multiplication\n",
    "print(x1 * x2)\n",
    "print(tf.multiply(x1, x2))\n",
    "# this is element-wise division \n",
    "print(x1 / x2)\n",
    "print(tf.divide(x1, x2))\n",
    "# returns 0 when  denominator is 0, instead of NaN / Inf\n",
    "# does not work with all data types \n",
    "print(tf.math.divide_no_nan(x1, x2))"
   ]
  },
  {
   "cell_type": "code",
   "execution_count": 44,
   "id": "492a1e1f",
   "metadata": {},
   "outputs": [
    {
     "name": "stdout",
     "output_type": "stream",
     "text": [
      "tf.Tensor(\n",
      "[[2 4 6]\n",
      " [5 7 9]], shape=(2, 3), dtype=int32)\n",
      "tf.Tensor(\n",
      "[[2 4 6]\n",
      " [5 7 9]], shape=(2, 3), dtype=int32)\n",
      "tf.Tensor(\n",
      "[[ True  True  True]\n",
      " [ True  True  True]], shape=(2, 3), dtype=bool)\n"
     ]
    }
   ],
   "source": [
    "x3 = tf.constant([1, 2, 3])\n",
    "# Since x1 is a 2x3 matrix and x3 is a 1x3 matrix\n",
    "# x3 will be broadcasted to [[1, 2, 3], [1, 2, 3]]\n",
    "print(x1 + x3)\n",
    "\n",
    "x4 = tf.constant([[1, 2, 3], [1, 2, 3]])\n",
    "print(x1 + x4)  \n",
    "\n",
    "# The x1 + x3 is implicitly converted as x1 + x4\n",
    "print((x1 + x3) == (x1 + x4))\n",
    "\n",
    "# x1 is a 2x3 matrix \n",
    "# x5 is a 1x2 matrix\n",
    "x5 = tf.constant([1, 2])\n",
    "# This will raise an error because the shapes are not convertible\n",
    "###### print(x1 + x5) ######"
   ]
  },
  {
   "cell_type": "code",
   "execution_count": 40,
   "id": "d44c9c6f",
   "metadata": {},
   "outputs": [
    {
     "name": "stdout",
     "output_type": "stream",
     "text": [
      "tf.Tensor([6], shape=(1,), dtype=int32)\n",
      "tf.Tensor([3 1], shape=(2,), dtype=int32)\n",
      "tf.Tensor(\n",
      "[[12  9 10 13 11 13]\n",
      " [10  7  8 11  9 11]\n",
      " [ 8  5  6  9  7  9]], shape=(3, 6), dtype=int32)\n"
     ]
    }
   ],
   "source": [
    "operand1 = tf.constant([5, 2, 3, 6, 4, 6])\n",
    "operand2 = tf.constant([[7], [5], [3]])\n",
    "print(tf.shape(operand1))\n",
    "print(tf.shape(operand2))\n",
    "print(operand1 + operand2)\n",
    "\n",
    "# operand1 (1x6) will be broadcasted to [[5, 2, 3, 6, 4, 6], [5, 2, 3, 6, 4, 6], [5, 2, 3, 6, 4, 6]]\n",
    "# operand2 (3x1) will be broadcasted to [[7, 7, 7], [5, 5, 5], [3, 3, 3]]\n",
    "# both then become 3x6 matrix"
   ]
  },
  {
   "cell_type": "code",
   "execution_count": 46,
   "id": "b9c601d8",
   "metadata": {},
   "outputs": [
    {
     "name": "stdout",
     "output_type": "stream",
     "text": [
      "tf.Tensor(\n",
      "[[7 7 7 7 7 7]\n",
      " [5 5 5 6 5 6]\n",
      " [5 3 3 6 4 6]], shape=(3, 6), dtype=int32)\n",
      "tf.Tensor(\n",
      "[[5 2 3 6 4 6]\n",
      " [5 2 3 5 4 5]\n",
      " [3 2 3 3 3 3]], shape=(3, 6), dtype=int32)\n"
     ]
    }
   ],
   "source": [
    "print(tf.maximum(operand1, operand2))\n",
    "print(tf.minimum(operand1, operand2))"
   ]
  },
  {
   "cell_type": "code",
   "execution_count": 54,
   "id": "3e745aa3",
   "metadata": {},
   "outputs": [
    {
     "name": "stdout",
     "output_type": "stream",
     "text": [
      "tf.Tensor(\n",
      "[[1 1]\n",
      " [1 1]], shape=(2, 2), dtype=int64)\n",
      "tf.Tensor(\n",
      "[[0 0]\n",
      " [0 0]], shape=(2, 2), dtype=int64)\n",
      "tf.Tensor([False  True  True False  True False  True], shape=(7,), dtype=bool)\n",
      "tf.Tensor([ True False False  True False  True False], shape=(7,), dtype=bool)\n",
      "tf.Tensor([     1      4     27      0   3125      0 823543], shape=(7,), dtype=int32)\n"
     ]
    }
   ],
   "source": [
    "# return the index of the maximum value\n",
    "print(tf.argmax(tensor_3d))\n",
    "# return the index of the minimum value\n",
    "print(tf.argmin(tensor_3d))\n",
    "\n",
    "t1 = tf.constant([1,2,3,4,5,6,7])\n",
    "t2 = tf.constant([0,2,3,90,5,78,7])\n",
    "# return a tensor of boolean values indicating if the elements are equal\n",
    "print(tf.equal(t1, t2))\n",
    "# return a tensor of boolean values indicating if the elements are not equal\n",
    "print(tf.not_equal(t1, t2))\n",
    "# return a tensor with value[i] = t1[i] ^ t2[i]\n",
    "print(tf.pow(t1, t2))\n"
   ]
  },
  {
   "cell_type": "code",
   "execution_count": 61,
   "id": "345d25f8",
   "metadata": {},
   "outputs": [
    {
     "name": "stdout",
     "output_type": "stream",
     "text": [
      "tf.Tensor(36, shape=(), dtype=int32)\n",
      "tf.Tensor(\n",
      "[[[0.24951132 0.8242993  0.5947517  0.29324868]\n",
      "  [0.22711527 0.27266937 0.52193785 0.44935912]\n",
      "  [0.36397415 0.3272732  0.34841982 0.32848924]\n",
      "  [0.4137815  0.41666725 0.5455176  0.7518671 ]\n",
      "  [0.78239167 0.49463123 0.42075157 0.59226227]\n",
      "  [0.56286335 0.65560436 0.8953233  0.3046716 ]]\n",
      "\n",
      " [[0.28820112 0.80136997 0.7729203  0.5146582 ]\n",
      "  [0.3793916  0.3057683  0.45381698 0.403049  ]\n",
      "  [0.34107155 0.2722298  0.5960029  0.26168197]\n",
      "  [0.17363848 0.46060368 0.41176003 0.45005703]\n",
      "  [0.8338423  0.6636657  0.5203219  0.79217345]\n",
      "  [0.7658107  0.41245747 0.47402298 0.32057154]]\n",
      "\n",
      " [[0.4078776  0.2945737  0.5421647  0.7398991 ]\n",
      "  [0.71516824 0.40880856 0.5254067  0.23287085]\n",
      "  [0.19349857 0.8707549  0.3270437  0.7839329 ]\n",
      "  [0.40123025 0.6980131  0.6419902  0.7644699 ]\n",
      "  [0.4765364  0.32593516 0.8649067  0.39065704]\n",
      "  [0.7054697  0.48689213 0.64195925 0.10950277]]\n",
      "\n",
      " [[0.35285965 0.4374155  0.3095121  0.4582337 ]\n",
      "  [0.1652398  0.304631   0.6362632  0.46205506]\n",
      "  [0.10530214 0.39414752 0.27591205 0.7738115 ]\n",
      "  [0.6762048  0.5527062  0.40318954 0.6397678 ]\n",
      "  [0.15530106 0.39782956 0.7081898  0.79051095]\n",
      "  [0.8452921  0.74816656 0.1684691  0.7461706 ]]\n",
      "\n",
      " [[0.44825402 0.2568244  0.8353866  0.7284723 ]\n",
      "  [0.7343146  0.32443815 0.3922728  0.69131505]\n",
      "  [0.677272   0.8784704  0.6557721  0.81168145]\n",
      "  [0.63091946 0.12124743 0.5823806  0.18398644]\n",
      "  [0.3171155  0.3743825  0.31783888 0.73149925]\n",
      "  [0.8119708  0.5692169  0.77802795 0.24742208]]], shape=(5, 6, 4), dtype=float32)\n"
     ]
    }
   ],
   "source": [
    "# return the sum of all elements in the tensor\n",
    "print(tf.reduce_sum(\n",
    "    input_tensor=tensor_3d,\n",
    "    # if None all elements are summed, otherwise sum is done along the axis\n",
    "    axis=None,\n",
    "    # if True, keep the dimensions of the reduced axes \n",
    "    keepdims=False,\n",
    "    name=None))\n",
    "# Similarly, there are reduce_min, reduce_max, reduce_mean, reduce_all, reduce_any, reduce_prod\n",
    "# reduce_all returns True if all elements are True, False otherwise\n",
    "# reduce_any returns False if all elements are False, True otherwise\n",
    "# reduce_prod returns the product of all elements\n",
    "\n",
    "# sigmoid function \n",
    "print(tf.sigmoid(tensor_random_normal))"
   ]
  },
  {
   "cell_type": "code",
   "execution_count": null,
   "id": "6eda373a",
   "metadata": {},
   "outputs": [],
   "source": []
  }
 ],
 "metadata": {
  "kernelspec": {
   "display_name": "Python 3",
   "language": "python",
   "name": "python3"
  },
  "language_info": {
   "codemirror_mode": {
    "name": "ipython",
    "version": 3
   },
   "file_extension": ".py",
   "mimetype": "text/x-python",
   "name": "python",
   "nbconvert_exporter": "python",
   "pygments_lexer": "ipython3",
   "version": "3.12.2"
  }
 },
 "nbformat": 4,
 "nbformat_minor": 5
}
